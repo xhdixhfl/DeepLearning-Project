# 코랩에서 구현하였음.
## Moving_object_detectron2 이후 진행

# 필요 라이브러리 로딩
from pycocotools.coco import COCO
from skimage import io
import matplotlib.pyplot as plt

coco = COCO(test_json_file_path)
catIds = coco.getCatIds(catNms=['*'])
imgIds = coco.getImgIds(catIds=catIds)

# 3장의 랜덤 이미지 확인
for f in random.sample(imgIds, 3):
  img=coco.loadImgs(imgIds[f])[0]
  file_name = io.imread(test_dataset_dir + '/' + img['file_name'])
  plt.axis('off') # 축옵션 끄기
  plt.imshow(file_name) # 이미지
  annIds = coco.getAnnIds(imgIds = img['id'], catIds = catIds, iscrowd = None)
  anns = coco.loadAnns(annIds)
  coco.showAnns(anns)

  print(img['file_name']) # 파일 이름 출력
  plt.show()
