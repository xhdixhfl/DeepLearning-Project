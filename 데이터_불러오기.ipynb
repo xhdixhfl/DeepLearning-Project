{
  "nbformat": 4,
  "nbformat_minor": 0,
  "metadata": {
    "colab": {
      "provenance": [],
      "authorship_tag": "ABX9TyOAA6l6GtlfxXYVTPiXIhHg",
      "include_colab_link": true
    },
    "kernelspec": {
      "name": "python3",
      "display_name": "Python 3"
    },
    "language_info": {
      "name": "python"
    },
    "accelerator": "GPU",
    "gpuClass": "standard"
  },
  "cells": [
    {
      "cell_type": "markdown",
      "metadata": {
        "id": "view-in-github",
        "colab_type": "text"
      },
      "source": [
        "<a href=\"https://colab.research.google.com/github/xhdixhfl/DeepLearning-Project/blob/main/%EB%8D%B0%EC%9D%B4%ED%84%B0_%EB%B6%88%EB%9F%AC%EC%98%A4%EA%B8%B0.ipynb\" target=\"_parent\"><img src=\"https://colab.research.google.com/assets/colab-badge.svg\" alt=\"Open In Colab\"/></a>"
      ]
    },
    {
      "cell_type": "code",
      "execution_count": null,
      "metadata": {
        "id": "ncwfrcU3fC1u"
      },
      "outputs": [],
      "source": [
        "# https://www.cognex.com/ko-kr/blogs/deep-learning/research/deep-learning-segmentation-finding-marking-dogs-cats-gcn"
      ]
    },
    {
      "cell_type": "code",
      "source": [
        "import torch  \n",
        "\n",
        "if torch.cuda.is_available():\n",
        "  device = torch.device('cuda')\n",
        "  print('There are %d GPU available.' % torch.cuda.device_count())\n",
        "  print('We will use the GPU : ', torch.cuda.get_device_name(0))\n",
        "else:\n",
        "  device = torch.device(\"CPU\")\n",
        "  print('No GPU. using CPU')"
      ],
      "metadata": {
        "id": "tRrfCncGfPVy"
      },
      "execution_count": null,
      "outputs": []
    },
    {
      "cell_type": "code",
      "source": [
        "def read_dt(data_dir, image_size, no_label = True):\n",
        "  \"\"\"\n",
        "    Segmentation문제를 위해 데이터를 전처리하고 로드.\n",
        "    :param data_dir: image 및 mask 데이터가 저장된 root 경로\n",
        "    :image_size: tuple, 크롭 및 패딩을 위해 지정된 이미지 사이즈\n",
        "    :no_label: bool, 레이블을 로드할 지 여부\n",
        "    :return: X_set: np.ndarray, shape: (N, H, W, C).\n",
        "             y_set: np.ndarray, shape: (N, H, W, num_classes (include background)).\n",
        "    \"\"\"\n",
        "    im_path = []\n",
        "    for x in EXT:\n",
        "      im_paths.extend(glob.glob(os.path.join(data_dir, 'images', '*.{}'.format(x))))\n",
        "      imgs = []\n",
        "      labels = []\n",
        "      for im_path in im_paths:\n",
        "        # 이미지 로드\n",
        "        im_name = os.path.splitext(os.path.basename(im_path))[0]\n",
        "        im = cv2.imread(im_path)\n",
        "        im = crop_shape(im, image_size)\n",
        "        im = padding(im, image_size)\n",
        "        imgs.append(im)\n",
        "\n",
        "        if no_label:\n",
        "          labels.append(0)\n",
        "          continue\n",
        "\n",
        "        # 마스크 로드\n",
        "        mask_path = os.path.join(data_dir, 'masks', '{}.png'.format(im_name))\n",
        "        mask = cv2.imread(mask_path)\n",
        "        mask = crop_shape(mask, image_size)\n",
        "        mask = padding(mask, image_size, fill = 2)\n",
        "\n",
        "        label = np.zeros((image_size[0],image_size[1], 3), dtype=np.float32)\n",
        "        label.fill(-1)   # Pixel annotations 1:Foreground, 2:Background, 3:Unknown\n",
        "        idx = np.where(mask == 2)\n",
        "        label[idx[0], idx[1], :] = [1,0,0]\n",
        "\n",
        "        idx = np.where(mask == 1)\n",
        "        if im_name[0].isupper():\n",
        "          label[idx[0], idx[1], :] = [0,1,0]\n",
        "        else:\n",
        "          label[idx[0], idx[1], :] = [0,0,1]\n",
        "          labels.append(label)\n",
        "\n",
        "      X_set = np.array(imgs, dtype = np.float32)\n",
        "      y_set = np.array(labels, dtype = np.float32)\n",
        "\n",
        "      return X_set, y_set\n",
        "\n",
        "      \n"
      ],
      "metadata": {
        "id": "88hhKIS_fRy8"
      },
      "execution_count": null,
      "outputs": []
    },
    {
      "cell_type": "code",
      "source": [],
      "metadata": {
        "id": "xm3jXTstfRvZ"
      },
      "execution_count": null,
      "outputs": []
    },
    {
      "cell_type": "code",
      "source": [],
      "metadata": {
        "id": "ua77DvaBfRls"
      },
      "execution_count": null,
      "outputs": []
    },
    {
      "cell_type": "code",
      "source": [],
      "metadata": {
        "id": "LdlSb-71fRiH"
      },
      "execution_count": null,
      "outputs": []
    },
    {
      "cell_type": "code",
      "source": [],
      "metadata": {
        "id": "WVpyHkxHfRfO"
      },
      "execution_count": null,
      "outputs": []
    },
    {
      "cell_type": "markdown",
      "source": [],
      "metadata": {
        "id": "J3oJ7FX0fHRP"
      }
    }
  ]
}